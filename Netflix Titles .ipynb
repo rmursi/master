{
    "cells": [
        {
            "cell_type": "markdown",
            "metadata": {},
            "source": "# Description\nNetflix Titles"
        },
        {
            "cell_type": "code",
            "execution_count": 1,
            "metadata": {},
            "outputs": [
                {
                    "ename": "Compile Error",
                    "evalue": "<console>:1: error: '.' expected but ',' found.\n       import os, types\n                ^\n<console>:2: error: identifier expected.\n       import pandas as pd\n       ^\n<console>:2: error: '.' expected but identifier found.\n       import pandas as pd\n                     ^\n<console>:3: error: identifier expected.\n       from botocore.client import Config\n       ^\n<console>:3: error: ';' expected but '.' found.\n       from botocore.client import Config\n                    ^\n<console>:4: error: . expected\n       import ibm_boto3\n                       ^\n<console>:6: error: ':' expected but ')' found.\n       def __iter__(self): return 0\n                        ^\n<console>:12: error: unclosed character literal (or use \" for string literal \"RUNTIME_ENV_LOCATION_TYPE\")\n       if os.environ.get('RUNTIME_ENV_LOCATION_TYPE') == 'external':\n                                                   ^\n<console>:17: error: unclosed character literal (or use \" for string literal \"s3\")\n       client_7276386931f545799c2b956720581ae8 = ibm_boto3.client(service_name='s3',\n                                                                                  ^\n<console>:18: error: unclosed character literal (or use \" not ' for string literal)\n           ibm_api_key_id='7qDIxg6EpiK2hSFzhMClqx923FJexIXien0JVmPqKe8c',\n                          ^\n<console>:18: error: unclosed character literal (or use \" not ' for string literal)\n           ibm_api_key_id='7qDIxg6EpiK2hSFzhMClqx923FJexIXien0JVmPqKe8c',\n                                                                       ^\n<console>:20: error: unclosed character literal (or use \" for string literal \"oauth\")\n           config=Config(signature_version='oauth'),\n                                                 ^\n<console>:23: error: unclosed character literal (or use \" not ' for string literal)\n       body = client_7276386931f545799c2b956720581ae8.get_object(Bucket='jupyternotebook-donotdelete-pr-qwqda66ttkeqgl',Key='netflix_titles.csv')['Body']\n                                                                                                                      ^\n<console>:23: error: unclosed character literal (or use \" not ' for string literal)\n       body = client_7276386931f545799c2b956720581ae8.get_object(Bucket='jupyternotebook-donotdelete-pr-qwqda66ttkeqgl',Key='netflix_titles.csv')['Body']\n                                                                                                                                               ^\n<console>:23: error: unclosed character literal (or use \" for string literal \")Body\")\n       body = client_7276386931f545799c2b956720581ae8.get_object(Bucket='jupyternotebook-donotdelete-pr-qwqda66ttkeqgl',Key='netflix_titles.csv')['Body']\n                                                                                                                                                       ^\n",
                    "output_type": "error",
                    "traceback": []
                }
            ],
            "source": "# The code was removed by Watson Studio for sharing."
        },
        {
            "cell_type": "code",
            "execution_count": null,
            "metadata": {},
            "outputs": [],
            "source": ""
        },
        {
            "cell_type": "code",
            "execution_count": null,
            "metadata": {},
            "outputs": [],
            "source": ""
        },
        {
            "cell_type": "code",
            "execution_count": null,
            "metadata": {},
            "outputs": [],
            "source": ""
        }
    ],
    "metadata": {
        "kernelspec": {
            "display_name": "Scala 2.12 with Spark",
            "language": "scala",
            "name": "scala"
        },
        "language_info": {
            "codemirror_mode": "text/x-scala",
            "file_extension": ".scala",
            "mimetype": "text/x-scala",
            "name": "scala",
            "pygments_lexer": "scala",
            "version": "2.12.12"
        }
    },
    "nbformat": 4,
    "nbformat_minor": 1
}