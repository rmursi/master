{
    "cells": [
        {
            "cell_type": "markdown",
            "metadata": {
                "collapsed": true
            },
            "source": "# My Jupyter Notebook on IBM Watson Studio"
        },
        {
            "cell_type": "markdown",
            "metadata": {},
            "source": "**Raphy Mursi**\n\nData Scientist "
        },
        {
            "cell_type": "markdown",
            "metadata": {},
            "source": " _I am interested in data science because I belive in the power of harnessing data_"
        },
        {
            "cell_type": "markdown",
            "metadata": {},
            "source": "### The following code will multiply two numbers together ###"
        },
        {
            "cell_type": "code",
            "execution_count": 12,
            "metadata": {},
            "outputs": [
                {
                    "name": "stdout",
                    "output_type": "stream",
                    "text": "The sum of 1.5 and 6.3 is 9.45\n"
                }
            ],
            "source": "num1 = 1.5\nnum2 = 6.3\n\n# Add two numbers\nsum = num1 * num2\n\n# Display the sum\nprint('The sum of {0} and {1} is {2}'.format(num1, num2, sum))"
        },
        {
            "cell_type": "markdown",
            "metadata": {},
            "source": "1. ~~Oranges~~\n2. ~~Apples~~\n3. ~~Peachs~~\n\n---\n\n> Thank you for reviewing my work."
        }
    ],
    "metadata": {
        "kernelspec": {
            "display_name": "Python 3.7",
            "language": "python",
            "name": "python3"
        },
        "language_info": {
            "codemirror_mode": {
                "name": "ipython",
                "version": 3
            },
            "file_extension": ".py",
            "mimetype": "text/x-python",
            "name": "python",
            "nbconvert_exporter": "python",
            "pygments_lexer": "ipython3",
            "version": "3.7.10"
        }
    },
    "nbformat": 4,
    "nbformat_minor": 1
}